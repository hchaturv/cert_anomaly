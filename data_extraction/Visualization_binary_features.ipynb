{
 "cells": [
  {
   "cell_type": "code",
   "execution_count": 68,
   "metadata": {
    "collapsed": true
   },
   "outputs": [],
   "source": [
    "# Import the libraries we will be using\n",
    "import os\n",
    "import numpy as np\n",
    "import pandas as pd\n",
    "import math\n",
    "import matplotlib.patches as patches\n",
    "import matplotlib.pylab as plt\n",
    "from sklearn.tree import DecisionTreeClassifier\n",
    "from sklearn.ensemble import RandomForestClassifier\n",
    "from sklearn.linear_model import LogisticRegression\n",
    "from sklearn.svm import SVC\n",
    "from sklearn.cross_validation import cross_val_score\n",
    "from sklearn import tree\n",
    "from sklearn import metrics\n",
    "from sklearn import datasets\n",
    "from IPython.display import Image\n",
    "import seaborn as sns\n",
    "sns.set_style('whitegrid')\n",
    "%matplotlib inline\n",
    "from pandas import DataFrame, read_sql\n",
    "import pandas as pd\n",
    "import sqlite3\n",
    "import pickle"
   ]
  },
  {
   "cell_type": "code",
   "execution_count": 92,
   "metadata": {
    "collapsed": false
   },
   "outputs": [
    {
     "name": "stdout",
     "output_type": "stream",
     "text": [
      "<class 'pandas.core.frame.DataFrame'>\n",
      "RangeIndex: 3617 entries, 0 to 3616\n",
      "Data columns (total 20 columns):\n",
      "sha256               3617 non-null object\n",
      "subject_c            3617 non-null object\n",
      "subject_o            3617 non-null object\n",
      "subject_cn           3617 non-null object\n",
      "issuer_c             3617 non-null object\n",
      "issuer_o             3617 non-null object\n",
      "issuer_cn            3617 non-null object\n",
      "signing_algorithm    3617 non-null object\n",
      "self_signed          3617 non-null int64\n",
      "key_algorithm        3617 non-null object\n",
      "val_length           2693 non-null float64\n",
      "val_start            3617 non-null object\n",
      "enc_only             3617 non-null int64\n",
      "cert_sign            3617 non-null int64\n",
      "key_enc              3617 non-null int64\n",
      "digi_sign            3617 non-null int64\n",
      "cont_commit          3617 non-null int64\n",
      "dec_only             3617 non-null int64\n",
      "key_agreem           3617 non-null int64\n",
      "data_enc             3617 non-null int64\n",
      "dtypes: float64(1), int64(9), object(10)\n",
      "memory usage: 565.2+ KB\n"
     ]
    }
   ],
   "source": [
    "con_gov = sqlite3.connect(\"gov_new_censys.db\")\n",
    "con_zip = sqlite3.connect(\"zip_new_censys.db\")\n",
    "gov_sql = '''SELECT *\n",
    "                FROM cert_data\n",
    "                '''\n",
    "\n",
    "zip_sql = '''SELECT *\n",
    "                FROM cert_data\n",
    "                '''\n",
    "df_gov = pd.read_sql(gov_sql, con_gov)\n",
    "df_zip = pd.read_sql(zip_sql, con_zip)\n",
    "df_zip.info()"
   ]
  },
  {
   "cell_type": "code",
   "execution_count": 30,
   "metadata": {
    "collapsed": false
   },
   "outputs": [
    {
     "data": {
      "text/plain": [
       "1"
      ]
     },
     "execution_count": 30,
     "metadata": {},
     "output_type": "execute_result"
    }
   ],
   "source": [
    "len(df_zip)\n",
    "df_zip['digi_sign'][0]\n"
   ]
  },
  {
   "cell_type": "code",
   "execution_count": 59,
   "metadata": {
    "collapsed": false
   },
   "outputs": [
    {
     "name": "stdout",
     "output_type": "stream",
     "text": [
      "3617\n",
      "10000\n",
      "[2563, 1016, 0, 23, 1877, 48, 0, 38, 48]\n",
      "[8758, 1336, 0, 814, 7678, 479, 0, 97, 304]\n",
      "[70, 28, 0, 0, 51, 1, 0, 1, 1]\n",
      "[87, 13, 0, 8, 76, 4, 0, 0, 3]\n"
     ]
    }
   ],
   "source": [
    "feature_zip = [0,0,0,0,0,0,0,0,0]\n",
    "feature_gov = [0,0,0,0,0,0,0,0,0]\n",
    "total1 =0\n",
    "total2 =0\n",
    "for i in range(len(df_zip)):\n",
    "    if df_zip['digi_sign'][i] == 1:\n",
    "        feature_zip[0] +=1\n",
    "    if df_zip['self_signed'][i] == 1:\n",
    "        feature_zip[1] +=1\n",
    "    if df_zip['enc_only'][i] == 1:\n",
    "        feature_zip[2] +=1\n",
    "    if df_zip['cert_sign'][i] == 1:\n",
    "        feature_zip[3] +=1\n",
    "    if df_zip['key_enc'][i] == 1:\n",
    "        feature_zip[4] +=1\n",
    "    if df_zip['cont_commit'][i] == 1:\n",
    "        feature_zip[5] +=1\n",
    "    if df_zip['dec_only'][i] == 1:\n",
    "        feature_zip[6] +=1\n",
    "    if df_zip['key_agreem'][i] == 1:\n",
    "        feature_zip[7] +=1\n",
    "    if df_zip['data_enc'][i] ==1:\n",
    "        feature_zip[8] +=1\n",
    "    total1+=1\n",
    "for i in range(len(df_gov)):\n",
    "    if df_gov['digi_sign'][i] == 1:\n",
    "        feature_gov[0] +=1\n",
    "    if df_gov['self_signed'][i] == 1:\n",
    "        feature_gov[1] +=1\n",
    "    if df_gov['enc_only'][i] == 1:\n",
    "        feature_gov[2] +=1\n",
    "    if df_gov['cert_sign'][i] == 1:\n",
    "        feature_gov[3] +=1\n",
    "    if df_gov['key_enc'][i] == 1:\n",
    "        feature_gov[4] +=1\n",
    "    if df_gov['cont_commit'][i] == 1:\n",
    "        feature_gov[5] +=1\n",
    "    if df_gov['dec_only'][i] == 1:\n",
    "        feature_gov[6] +=1\n",
    "    if df_gov['key_agreem'][i] == 1:\n",
    "        feature_gov[7] +=1\n",
    "    if df_gov['data_enc'][i] ==1:\n",
    "        feature_gov[8] +=1\n",
    "    total2+=1\n",
    "print total1\n",
    "print total2\n",
    "print feature_zip\n",
    "print feature_gov\n",
    "percent_zip = []\n",
    "percent_gov = []\n",
    "perc_zip = lambda x: (x*100)/total1\n",
    "perc_gov = lambda x: (x*100)/total2\n",
    "for x in feature_zip:\n",
    "    percent_zip.append(perc_zip(x)) \n",
    "    \n",
    "for x in feature_gov: \n",
    "    percent_gov.append(perc_gov(x))\n",
    "    \n",
    "print percent_zip\n",
    "print percent_gov\n",
    "#total2"
   ]
  },
  {
   "cell_type": "code",
   "execution_count": 66,
   "metadata": {
    "collapsed": false
   },
   "outputs": [
    {
     "data": {
      "image/png": "[encoded data removed]",
      "text/plain": [
       "<matplotlib.figure.Figure at 0x115d74890>"
      ]
     },
     "metadata": {},
     "output_type": "display_data"
    },
    {
     "data": {
      "text/plain": [
       "<matplotlib.figure.Figure at 0x115ec3850>"
      ]
     },
     "metadata": {},
     "output_type": "display_data"
    }
   ],
   "source": [
    "objects = ('digi_sign', 'self_signed', 'enc_only', 'cert_sign', 'key_enc', 'cont_commit','dec_only','key_agreem','data_enc')\n",
    "y_pos = np.arange(len(objects))\n",
    "bar_width = 0.35\n",
    "fig,ax = plt.subplots(figsize=(15,10))\n",
    "#fig,ax = plt.subplots()\n",
    "zip_plt = plt.bar(y_pos, percent_zip, bar_width, alpha=0.5, color='r',label = \"zip\")\n",
    "gov_plt = plt.bar(y_pos+bar_width, percent_gov, bar_width, alpha=0.5, color='b',label = \"gov\")\n",
    "plt.xticks(y_pos+bar_width, objects)\n",
    "plt.ylabel('Frequency Percentage')\n",
    "plt.title('Features')\n",
    "plt.figure(figsize=(50,10))\n",
    "#plt.tight_layout()\n",
    "plt.show()"
   ]
  },
  {
   "cell_type": "code",
   "execution_count": 89,
   "metadata": {
    "collapsed": false
   },
   "outputs": [
    {
     "data": {
      "text/plain": [
       "0       3\n",
       "1       3\n",
       "2       3\n",
       "3       3\n",
       "4       3\n",
       "5       3\n",
       "6       3\n",
       "7       3\n",
       "8       1\n",
       "9       1\n",
       "10      1\n",
       "11      1\n",
       "12      1\n",
       "13      3\n",
       "14      3\n",
       "15      3\n",
       "16      1\n",
       "17      3\n",
       "18      1\n",
       "19      3\n",
       "20      3\n",
       "21      1\n",
       "22      3\n",
       "23      3\n",
       "24      3\n",
       "25      3\n",
       "26      1\n",
       "27      1\n",
       "28      3\n",
       "29      1\n",
       "       ..\n",
       "3587    1\n",
       "3588    1\n",
       "3589    1\n",
       "3590    1\n",
       "3591    1\n",
       "3592    1\n",
       "3593    1\n",
       "3594    1\n",
       "3595    1\n",
       "3596    1\n",
       "3597    1\n",
       "3598    3\n",
       "3599    3\n",
       "3600    3\n",
       "3601    3\n",
       "3602    3\n",
       "3603    3\n",
       "3604    3\n",
       "3605    3\n",
       "3606    3\n",
       "3607    3\n",
       "3608    3\n",
       "3609    3\n",
       "3610    3\n",
       "3611    3\n",
       "3612    3\n",
       "3613    3\n",
       "3614    3\n",
       "3615    3\n",
       "3616    3\n",
       "Name: signing_algorithm_nums, dtype: int64"
      ]
     },
     "execution_count": 89,
     "metadata": {},
     "output_type": "execute_result"
    }
   ],
   "source": [
    "with open(\"df_combined.pickle\") as pickled_file:\n",
    "    your_df_name = pickle.load(pickled_file)\n",
    "df_gov = your_df_name[:10000]\n",
    "df_zip = your_df_name[10000:]\n",
    "#df_zip['signing_algorithm_nums']\n",
    "df_zip.index = range(3617)\n",
    "df_zip.signing_algorithm_nums"
   ]
  },
  {
   "cell_type": "code",
   "execution_count": 91,
   "metadata": {
    "collapsed": false
   },
   "outputs": [
    {
     "ename": "IndexError",
     "evalue": "list index out of range",
     "output_type": "error",
     "traceback": [
      "\u001b[0;31m---------------------------------------------------------------------------\u001b[0m",
      "\u001b[0;31mIndexError\u001b[0m                                Traceback (most recent call last)",
      "\u001b[0;32m<ipython-input-91-08f185c63d45>\u001b[0m in \u001b[0;36m<module>\u001b[0;34m()\u001b[0m\n\u001b[1;32m     23\u001b[0m \u001b[0mk\u001b[0m \u001b[0;34m=\u001b[0m \u001b[0;36m0\u001b[0m\u001b[0;34m\u001b[0m\u001b[0m\n\u001b[1;32m     24\u001b[0m \u001b[0;32mfor\u001b[0m \u001b[0mi\u001b[0m \u001b[0;32min\u001b[0m \u001b[0mrange\u001b[0m\u001b[0;34m(\u001b[0m\u001b[0mk\u001b[0m\u001b[0;34m,\u001b[0m\u001b[0mk\u001b[0m\u001b[0;34m+\u001b[0m\u001b[0mlen\u001b[0m\u001b[0;34m(\u001b[0m\u001b[0mdf_zip\u001b[0m\u001b[0;34m)\u001b[0m\u001b[0;34m)\u001b[0m\u001b[0;34m:\u001b[0m\u001b[0;34m\u001b[0m\u001b[0m\n\u001b[0;32m---> 25\u001b[0;31m     \u001b[0msigning_algorithm_nums_zip\u001b[0m\u001b[0;34m[\u001b[0m\u001b[0mdf_zip\u001b[0m\u001b[0;34m[\u001b[0m\u001b[0;34m'signing_algorithm_nums'\u001b[0m\u001b[0;34m]\u001b[0m\u001b[0;34m[\u001b[0m\u001b[0mi\u001b[0m\u001b[0;34m]\u001b[0m\u001b[0;34m]\u001b[0m \u001b[0;34m+=\u001b[0m\u001b[0;36m1\u001b[0m\u001b[0;34m\u001b[0m\u001b[0m\n\u001b[0m\u001b[1;32m     26\u001b[0m     \u001b[0mkey_algorithm_nums_zip\u001b[0m\u001b[0;34m[\u001b[0m\u001b[0mdf_zip\u001b[0m\u001b[0;34m[\u001b[0m\u001b[0;34m'key_algorithm_nums'\u001b[0m\u001b[0;34m]\u001b[0m\u001b[0;34m[\u001b[0m\u001b[0mi\u001b[0m\u001b[0;34m]\u001b[0m\u001b[0;34m]\u001b[0m \u001b[0;34m+=\u001b[0m\u001b[0;36m1\u001b[0m\u001b[0;34m\u001b[0m\u001b[0m\n\u001b[1;32m     27\u001b[0m     \u001b[0msubject_c_nums_zip\u001b[0m\u001b[0;34m[\u001b[0m\u001b[0mdf_zip\u001b[0m\u001b[0;34m[\u001b[0m\u001b[0;34m'subject_c_nums'\u001b[0m\u001b[0;34m]\u001b[0m\u001b[0;34m[\u001b[0m\u001b[0mi\u001b[0m\u001b[0;34m]\u001b[0m\u001b[0;34m]\u001b[0m \u001b[0;34m+=\u001b[0m\u001b[0;36m1\u001b[0m\u001b[0;34m\u001b[0m\u001b[0m\n",
      "\u001b[0;31mIndexError\u001b[0m: list index out of range"
     ]
    }
   ],
   "source": [
    "signing_algorithm_nums_zip =[]\n",
    "key_algorithm_nums_zip = []\n",
    "subject_c_nums_zip =[]\n",
    "subject_o_nums_zip = []\n",
    "issuer_c_nums_zip = []\n",
    "issuer_o_nums_zip = []\n",
    "subject_cn_nums_zip = []\n",
    "issuer_cn_nums_zip = []\n",
    "\n",
    "signing_algorithm_nums_gov = []\n",
    "key_algorithm_nums_gov =[]\n",
    "subject_c_nums_gov = []\n",
    "subject_o_nums_gov = []\n",
    "issuer_c_nums_gov = []\n",
    "issuer_o_nums_gov = []\n",
    "subject_cn_nums_gov = []\n",
    "issuer_cn_nums_gov = []\n",
    "\n",
    "feature_zip = [0,0,0,0,0,0,0,0]\n",
    "feature_gov = [0,0,0,0,0,0,0,0]\n",
    "total1 =0\n",
    "total2 =0\n",
    "k = 0\n",
    "for i in range(k,k+len(df_zip)):\n",
    "    signing_algorithm_nums_zip[df_zip['signing_algorithm_nums'][i]] +=1\n",
    "    key_algorithm_nums_zip[df_zip['key_algorithm_nums'][i]] +=1\n",
    "    subject_c_nums_zip[df_zip['subject_c_nums'][i]] +=1\n",
    "    subject_o_nums_zip[df_zip['subject_o_nums'][i]] +=1\n",
    "    issuer_c_nums_zip[df_zip['issuer_c_nums'][i]] +=1\n",
    "    issuer_o_nums_zip[df_zip['issuer_o_nums'][i]] +=1\n",
    "    subject_cn_nums_zip[df_zip['subject_cn_nums'][i]] +=1\n",
    "    issuer_cn_nums_zip[df_zip['issuer_cn_nums'][i]] +=1\n",
    "    total+=1\n",
    "    \n",
    "for i in range(len(df_gov)):\n",
    "    signing_algorithm_nums_gov[df_gov['signing_algorithm_nums'][i]] +=1\n",
    "    key_algorithm_nums_gov[df_gov['key_algorithm_nums'][i]] +=1\n",
    "    subject_c_nums_gov[df_gov['subject_c_nums'][i]] +=1\n",
    "    subject_o_nums_gov[df_gov['subject_o_nums'][i]] +=1\n",
    "    issuer_c_nums_gov[df_gov['issuer_c_nums'][i]] +=1\n",
    "    issuer_o_nums_gov[df_gov['issuer_o_nums'][i]] +=1\n",
    "    subject_cn_nums_gov[df_gov['subject_cn_nums'][i]] +=1\n",
    "    issuer_cn_nums_gov[df_gov['issuer_cn_nums'][i]] +=1\n",
    "    total2+=1\n",
    "print total1\n",
    "print total2\n",
    "print feature_zip\n",
    "print feature_gov\n",
    "'''percent_zip = []\n",
    "percent_gov = []\n",
    "perc_zip = lambda x: (x*100)/total1\n",
    "perc_gov = lambda x: (x*100)/total2\n",
    "for x in feature_zip:\n",
    "    percent_zip.append(perc_zip(x)) \n",
    "    \n",
    "for x in feature_gov: \n",
    "    percent_gov.append(perc_gov(x))\n",
    "    \n",
    "print percent_zip\n",
    "print percent_gov'''"
   ]
  },
  {
   "cell_type": "code",
   "execution_count": null,
   "metadata": {
    "collapsed": true
   },
   "outputs": [],
   "source": []
  }
 ],
 "metadata": {
  "anaconda-cloud": {},
  "kernelspec": {
   "display_name": "Python [default]",
   "language": "python",
   "name": "python2"
  },
  "language_info": {
   "codemirror_mode": {
    "name": "ipython",
    "version": 2
   },
   "file_extension": ".py",
   "mimetype": "text/x-python",
   "name": "python",
   "nbconvert_exporter": "python",
   "pygments_lexer": "ipython2",
   "version": "2.7.12"
  }
 },
 "nbformat": 4,
 "nbformat_minor": 1
}
